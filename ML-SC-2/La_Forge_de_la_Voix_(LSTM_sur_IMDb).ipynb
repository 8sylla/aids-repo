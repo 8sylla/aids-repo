{
  "nbformat": 4,
  "nbformat_minor": 0,
  "metadata": {
    "colab": {
      "provenance": [],
      "gpuType": "T4",
      "authorship_tag": "ABX9TyNWCmHrzyljFl7GT6zwyMqH",
      "include_colab_link": true
    },
    "kernelspec": {
      "name": "python3",
      "display_name": "Python 3"
    },
    "language_info": {
      "name": "python"
    },
    "accelerator": "GPU"
  },
  "cells": [
    {
      "cell_type": "markdown",
      "metadata": {
        "id": "view-in-github",
        "colab_type": "text"
      },
      "source": [
        "<a href=\"https://colab.research.google.com/github/8sylla/aids-repo/blob/main/La_Forge_de_la_Voix_(LSTM_sur_IMDb).ipynb\" target=\"_parent\"><img src=\"https://colab.research.google.com/assets/colab-badge.svg\" alt=\"Open In Colab\"/></a>"
      ]
    },
    {
      "cell_type": "markdown",
      "source": [
        "<h1><b><font color=\"#39FF14\">CODE \"MATRIX\" présente : La Forge de la Voix</font></b></h1>\n",
        "<font color=\"#7DF9FF\">Quête n°1 : Apprendre à lire les anciens manuscrits (CNN sur MNIST)</font>\n",
        "\n",
        " ---\n",
        "*Formateur : NFALY SYLLA*\n",
        " *Date : 10 Août 2025*\n",
        "\n",
        "<img src=\"https://media.licdn.com/dms/image/v2/D560BAQGc_Vs-VuVxag/company-logo_200_200/B56ZYWRodxGUAM-/0/1744130443673?e=1757548800&v=beta&t=VweJKMMB6YuIXAi8kn2vvuCgcEKf9sspF36HMTm2cfA\" alt=\"CODE MATRIX Logo\" style=\"height: 100px;\">\n",
        "\n",
        " ---\n",
        " ### **Utilisation**\n",
        "Vous êtes libre de le partager, de le modifier et de l'utiliser à des fins éducatives.\n",
        "\n",
        "**Auteur :** N'faly Sylla pour CODE \"MATRIX\"\n",
        "\n",
        "**Contact :** [LinkedIn](https://linkedin.com/in/8sylla) | [GitHub](https://github.com/8sylla/aids-repo)\n",
        "\n",
        "---\n",
        "---"
      ],
      "metadata": {
        "id": "ovRNFUjRZXM7"
      }
    },
    {
      "cell_type": "markdown",
      "source": [
        "# Acte II : La Forge de la Voix (LSTM)\n",
        "\n",
        "## 🎯 La Quête : Comprendre les Émotions Humaines\n",
        "\n",
        "**Le Problème :** Après avoir appris à voir, notre machine doit maintenant apprendre à écouter. Nous avons en notre possession une vaste collection de critiques de films du site IMDb. Certaines sont positives, d'autres négatives. Le défi est que le langage humain est complexe : le sarcasme, les négations, et le contexte peuvent complètement changer le sens d'une phrase.\n",
        "\n",
        "**Notre Mission :** Forger une **\"Voix Pensante\"** en utilisant un **Réseau de Neurones Récurrent de type LSTM (Long Short-Term Memory)**. Cette voix devra lire une critique mot par mot, se souvenir du contexte du début de la phrase, pour finalement juger si le sentiment global est positif ou négatif.\n",
        "\n",
        "![IMDb Logo](https://upload.wikimedia.org/wikipedia/commons/thumb/6/69/IMDB_Logo_2016.svg/575px-IMDB_Logo_2016.svg.png)\n",
        "*<center>Le dataset IMDb contient des milliers de critiques de films.</center>*"
      ],
      "metadata": {
        "id": "car4It3F9fRt"
      }
    },
    {
      "cell_type": "markdown",
      "source": [
        "---\n",
        "## 🛠️ Étape 1 : Préparation de la Forge (Importations et Outils)\n",
        "\n",
        "Les outils pour le langage sont légèrement différents. Nous aurons besoin de couches spécialisées comme `Embedding` et `LSTM`, ainsi que des outils pour préparer le texte, comme `pad_sequences`."
      ],
      "metadata": {
        "id": "bLDM2Iev9ic8"
      }
    },
    {
      "cell_type": "code",
      "source": [
        "# Importation des librairies nécessaires\n",
        "import tensorflow as tf\n",
        "from tensorflow.keras.datasets import imdb\n",
        "from tensorflow.keras.models import Sequential\n",
        "from tensorflow.keras.layers import Embedding, LSTM, Dense, Bidirectional, Dropout\n",
        "from tensorflow.keras.preprocessing.sequence import pad_sequences\n",
        "\n",
        "import matplotlib.pyplot as plt\n",
        "import numpy as np\n",
        "\n",
        "print(\"TensorFlow Version:\", tf.__version__)\n",
        "print(\"Forge préparée pour le langage. Outils importés ! 🗣️\")"
      ],
      "metadata": {
        "id": "h2vSwTSi9kds",
        "outputId": "26f5d945-08ea-46ff-bf20-a4c8eaac8ae9",
        "colab": {
          "base_uri": "https://localhost:8080/"
        }
      },
      "execution_count": null,
      "outputs": [
        {
          "output_type": "stream",
          "name": "stdout",
          "text": [
            "TensorFlow Version: 2.19.0\n",
            "Forge préparée pour le langage. Outils importés ! 🗣️\n"
          ]
        }
      ]
    },
    {
      "cell_type": "markdown",
      "source": [
        "---\n",
        "## 📖 Étape 2 : Étude des Parchemins (Chargement et Exploration des Données)\n",
        "\n",
        "Avant de forger notre Voix, écoutons ce que disent les parchemins. Le dataset IMDb est un classique pour l'analyse de sentiments.\n",
        "\n",
        "### Description du Dataset IMDb\n",
        "- **Contenu :** 50,000 critiques de films, déjà divisées en deux catégories : positives (label 1) et négatives (label 0).\n",
        "- **Division :** 25,000 critiques pour l'entraînement et 25,000 pour les tests.\n",
        "- **Format des données :** Le texte a déjà été prétraité. Chaque mot est remplacé par un entier correspondant à sa fréquence dans le dataset. Par exemple, le mot le plus fréquent est représenté par le chiffre 1, le deuxième par le 2, etc. C'est ce qu'on appelle la **tokenization**.\n",
        "- **Labels :** 0 pour une critique négative, 1 pour une positive."
      ],
      "metadata": {
        "id": "JUi6tUnN-CtI"
      }
    },
    {
      "cell_type": "code",
      "source": [
        "# On ne garde que les 10 000 mots les plus fréquents pour limiter la taille du vocabulaire\n",
        "VOCAB_SIZE = 10000\n",
        "\n",
        "# Chargement du dataset IMDb\n",
        "(x_train, y_train), (x_test, y_test) = imdb.load_data(num_words=VOCAB_SIZE)\n",
        "\n",
        "# Affichons quelques informations\n",
        "print(\"--- Exploration du Dataset IMDb ---\")\n",
        "print(f\"Nombre de critiques d'entraînement : {len(x_train)}\")\n",
        "print(f\"Nombre de critiques de test : {len(x_test)}\")\n",
        "\n",
        "# Regardons une critique (elle est sous forme de liste de nombres)\n",
        "print(\"\\nExemple de critique tokenizée (la première) :\")\n",
        "print(x_train[0])\n",
        "print(f\"Label correspondant : {y_train[0]} (1 = Positif)\")\n",
        "print(f\"Longueur de cette critique : {len(x_train[0])} mots\")\n",
        "print(f\"Longueur de la deuxième critique : {len(x_train[1])} mots\")"
      ],
      "metadata": {
        "colab": {
          "base_uri": "https://localhost:8080/"
        },
        "id": "otRr6Zd1-FVV",
        "outputId": "ef9a6d0e-6152-4e5d-96a7-2de8da219534"
      },
      "execution_count": null,
      "outputs": [
        {
          "output_type": "stream",
          "name": "stdout",
          "text": [
            "Downloading data from https://storage.googleapis.com/tensorflow/tf-keras-datasets/imdb.npz\n",
            "\u001b[1m17464789/17464789\u001b[0m \u001b[32m━━━━━━━━━━━━━━━━━━━━\u001b[0m\u001b[37m\u001b[0m \u001b[1m0s\u001b[0m 0us/step\n",
            "--- Exploration du Dataset IMDb ---\n",
            "Nombre de critiques d'entraînement : 25000\n",
            "Nombre de critiques de test : 25000\n",
            "\n",
            "Exemple de critique tokenizée (la première) :\n",
            "[1, 14, 22, 16, 43, 530, 973, 1622, 1385, 65, 458, 4468, 66, 3941, 4, 173, 36, 256, 5, 25, 100, 43, 838, 112, 50, 670, 2, 9, 35, 480, 284, 5, 150, 4, 172, 112, 167, 2, 336, 385, 39, 4, 172, 4536, 1111, 17, 546, 38, 13, 447, 4, 192, 50, 16, 6, 147, 2025, 19, 14, 22, 4, 1920, 4613, 469, 4, 22, 71, 87, 12, 16, 43, 530, 38, 76, 15, 13, 1247, 4, 22, 17, 515, 17, 12, 16, 626, 18, 2, 5, 62, 386, 12, 8, 316, 8, 106, 5, 4, 2223, 5244, 16, 480, 66, 3785, 33, 4, 130, 12, 16, 38, 619, 5, 25, 124, 51, 36, 135, 48, 25, 1415, 33, 6, 22, 12, 215, 28, 77, 52, 5, 14, 407, 16, 82, 2, 8, 4, 107, 117, 5952, 15, 256, 4, 2, 7, 3766, 5, 723, 36, 71, 43, 530, 476, 26, 400, 317, 46, 7, 4, 2, 1029, 13, 104, 88, 4, 381, 15, 297, 98, 32, 2071, 56, 26, 141, 6, 194, 7486, 18, 4, 226, 22, 21, 134, 476, 26, 480, 5, 144, 30, 5535, 18, 51, 36, 28, 224, 92, 25, 104, 4, 226, 65, 16, 38, 1334, 88, 12, 16, 283, 5, 16, 4472, 113, 103, 32, 15, 16, 5345, 19, 178, 32]\n",
            "Label correspondant : 1 (1 = Positif)\n",
            "Longueur de cette critique : 218 mots\n",
            "Longueur de la deuxième critique : 189 mots\n"
          ]
        }
      ]
    },
    {
      "cell_type": "markdown",
      "source": [
        "### Le Défi : Des Séquences de Longueurs Variables\n",
        "Comme on peut le voir, les critiques n'ont pas toutes la même longueur. Or, les réseaux de neurones attendent des entrées de taille fixe. Nous devons résoudre ce problème.\n",
        "\n",
        "**Solution : Le Padding**\n",
        "Le \"padding\" consiste à uniformiser la longueur de toutes les séquences.\n",
        "- Si une critique est trop longue, on la coupe.\n",
        "- Si une critique est trop courte, on ajoute des zéros (ou un autre token spécial) à la fin pour atteindre la longueur désirée.\n",
        "\n",
        "On va choisir une longueur maximale (`MAX_LEN`) pour toutes nos critiques."
      ],
      "metadata": {
        "id": "hqpgkhVa-JH_"
      }
    },
    {
      "cell_type": "markdown",
      "source": [
        "---\n",
        "## 🪄 Étape 3 : La Magie des Mots (Prétraitement du Texte)\n",
        "\n",
        "Ici, nous allons appliquer le **padding**. C'est une étape de préparation essentielle pour tout travail avec des séquences.\n",
        "\n",
        "Nous allons également décoder une critique pour voir à quoi ressemble le texte original. Pour cela, nous devons récupérer le dictionnaire qui mappe les mots aux entiers."
      ],
      "metadata": {
        "id": "88Az7j-d-OCC"
      }
    },
    {
      "cell_type": "code",
      "source": [
        "MAX_LEN = 256  # Longueur maximale d'une critique (en mots)\n",
        "\n",
        "# Appliquons le padding\n",
        "print(\"--- Application du Padding ---\")\n",
        "x_train_pad = pad_sequences(x_train, maxlen=MAX_LEN, padding='post', truncating='post')\n",
        "x_test_pad = pad_sequences(x_test, maxlen=MAX_LEN, padding='post', truncating='post')\n",
        "\n",
        "print(\"Shape de x_train avant padding:\", x_train[0].shape)\n",
        "print(\"Shape de x_train après padding:\", x_train_pad[0].shape)\n",
        "\n",
        "# Pour mieux comprendre, décodons une critique\n",
        "# Obtenir le dictionnaire mot -> entier\n",
        "word_index = imdb.get_word_index()\n",
        "# Inverser le dictionnaire pour avoir entier -> mot\n",
        "reverse_word_index = {value: key for (key, value) in word_index.items()}\n",
        "\n",
        "def decode_review(text_sequence):\n",
        "    # Les index sont décalés de 3 car 0=padding, 1=début, 2=inconnu\n",
        "    return ' '.join([reverse_word_index.get(i - 3, '?') for i in text_sequence])\n",
        "\n",
        "print(\"\\n--- Décodage de la première critique ---\")\n",
        "print(decode_review(x_train[0]))"
      ],
      "metadata": {
        "colab": {
          "base_uri": "https://localhost:8080/"
        },
        "id": "Xi4-QYtz-Mw2",
        "outputId": "0a307e1b-e64b-43e4-cd4c-e6b37c95d695"
      },
      "execution_count": null,
      "outputs": [
        {
          "output_type": "stream",
          "name": "stdout",
          "text": [
            "--- Application du Padding ---\n",
            "Downloading data from https://storage.googleapis.com/tensorflow/tf-keras-datasets/imdb_word_index.json\n",
            "\u001b[1m1641221/1641221\u001b[0m \u001b[32m━━━━━━━━━━━━━━━━━━━━\u001b[0m\u001b[37m\u001b[0m \u001b[1m0s\u001b[0m 0us/step\n",
            "\n",
            "--- Décodage de la première critique ---\n",
            "? this film was just brilliant casting location scenery story direction everyone's really suited the part they played and you could just imagine being there robert ? is an amazing actor and now the same being director ? father came from the same scottish island as myself so i loved the fact there was a real connection with this film the witty remarks throughout the film were great it was just brilliant so much that i bought the film as soon as it was released for ? and would recommend it to everyone to watch and the fly fishing was amazing really cried at the end it was so sad and you know what they say if you cry at a film it must have been good and this definitely was also ? to the two little boy's that played the ? of norman and paul they were just brilliant children are often left out of the ? list i think because the stars that play them all grown up are such a big profile for the whole film but these children are amazing and should be praised for what they have done don't you think the whole story was so lovely because it was true and was someone's life after all that was shared with us all\n"
          ]
        }
      ]
    },
    {
      "cell_type": "markdown",
      "source": [
        "---\n",
        "## 🔥 Étape 4 : Le Blueprint de la Voix (Architecture du LSTM)\n",
        "\n",
        "Maintenant, nous dessinons le plan de notre Voix Pensante. Elle sera basée sur une architecture LSTM.\n",
        "\n",
        "### L'Intuition derrière notre Architecture\n",
        "1.  **Couche `Embedding` :** C'est la couche la plus importante. Elle transforme chaque mot (un simple numéro) en un **vecteur dense de \"sens\"**. Par exemple, les vecteurs des mots \"excellent\" et \"magnifique\" seront proches dans l'espace, tandis que ceux de \"excellent\" et \"horrible\" seront éloignés. Le modèle apprend ces représentations pendant l'entraînement.\n",
        "2.  **Couche `LSTM` :** Le cœur du modèle. Elle lit la séquence de vecteurs de mots et, grâce à sa mémoire interne, capture le contexte et le sens global de la phrase. Nous utiliserons une couche **`Bidirectional`** pour qu'elle lise la phrase dans les deux sens, améliorant encore plus la compréhension du contexte.\n",
        "3.  **Couche `Dense` :** Le classifieur final qui prend le résumé contextuel du LSTM et décide si le sentiment est positif ou négatif.\n",
        "\n",
        "### La Théorie : La Cellule LSTM\n",
        "Le LSTM résout le problème de la mémoire à long terme grâce à un \"Cell State\" ($C_t$) et trois portes qui contrôlent le flux d'information :\n",
        "- **Forget Gate ($f_t$):** Décide quoi oublier de la mémoire passée.\n",
        "$$ f_t = \\sigma(W_f \\cdot [h_{t-1}, x_t] + b_f) $$\n",
        "- **Input Gate ($i_t, \\tilde{C}_t$):** Décide quelle nouvelle information stocker.\n",
        "- **Output Gate ($o_t$):** Décide quelle partie de la mémoire utiliser pour la prédiction actuelle.\n",
        "\n",
        "![IMDb Logo](https://aiml.com/wp-content/uploads/2023/10/rnn-lstm-gru-transformers.png)\n",
        "\n",
        "---\n",
        "\n",
        "![IMDb Logo](https://miro.medium.com/v2/resize:fit:700/1*SICYykT7ybua1gVJDNlajw.png)\n",
        "\n",
        "---\n",
        "\n"
      ],
      "metadata": {
        "id": "RQrYhbKO-pPk"
      }
    },
    {
      "cell_type": "code",
      "source": [
        "# Le code exact vu dans la présentation !\n",
        "# On construit le modèle brique par brique.\n",
        "\n",
        "EMBEDDING_DIM = 128\n",
        "LSTM_UNITS = 64\n",
        "\n",
        "model_lstm = Sequential([\n",
        "  # Étape 1: Créer un \"dictionnaire de sens\" pour chaque mot.\n",
        "  # input_dim est la taille de notre vocabulaire.\n",
        "  # output_dim est la taille du vecteur de sens que nous voulons pour chaque mot.\n",
        "  Embedding(input_dim=VOCAB_SIZE, output_dim=EMBEDDING_DIM, input_length=MAX_LEN),\n",
        "\n",
        "  # Étape 2: La couche LSTM qui lit la séquence et se souvient du contexte.\n",
        "  # On l'enrobe dans Bidirectional pour lire la phrase dans les deux sens.\n",
        "  Bidirectional(LSTM(units=LSTM_UNITS, dropout=0.2, recurrent_dropout=0.2)),\n",
        "\n",
        "  # Étape 3: Une couche dense pour un traitement final.\n",
        "  Dense(64, activation='relu'),\n",
        "  Dropout(0.5), # Un autre Dropout pour la régularisation\n",
        "\n",
        "  # Étape 4: Le neurone de sortie qui donne la probabilité d'un sentiment positif.\n",
        "  Dense(1, activation='sigmoid')\n",
        "])\n",
        "\n",
        "# Affichons le plan de notre architecture\n",
        "model_lstm.summary()"
      ],
      "metadata": {
        "colab": {
          "base_uri": "https://localhost:8080/",
          "height": 336
        },
        "id": "mPywlFND-tEL",
        "outputId": "1703e18f-b1e0-488e-a5af-e63a5d70ceda"
      },
      "execution_count": null,
      "outputs": [
        {
          "output_type": "stream",
          "name": "stderr",
          "text": [
            "/usr/local/lib/python3.11/dist-packages/keras/src/layers/core/embedding.py:97: UserWarning: Argument `input_length` is deprecated. Just remove it.\n",
            "  warnings.warn(\n"
          ]
        },
        {
          "output_type": "display_data",
          "data": {
            "text/plain": [
              "\u001b[1mModel: \"sequential\"\u001b[0m\n"
            ],
            "text/html": [
              "<pre style=\"white-space:pre;overflow-x:auto;line-height:normal;font-family:Menlo,'DejaVu Sans Mono',consolas,'Courier New',monospace\"><span style=\"font-weight: bold\">Model: \"sequential\"</span>\n",
              "</pre>\n"
            ]
          },
          "metadata": {}
        },
        {
          "output_type": "display_data",
          "data": {
            "text/plain": [
              "┏━━━━━━━━━━━━━━━━━━━━━━━━━━━━━━━━━┳━━━━━━━━━━━━━━━━━━━━━━━━┳━━━━━━━━━━━━━━━┓\n",
              "┃\u001b[1m \u001b[0m\u001b[1mLayer (type)                   \u001b[0m\u001b[1m \u001b[0m┃\u001b[1m \u001b[0m\u001b[1mOutput Shape          \u001b[0m\u001b[1m \u001b[0m┃\u001b[1m \u001b[0m\u001b[1m      Param #\u001b[0m\u001b[1m \u001b[0m┃\n",
              "┡━━━━━━━━━━━━━━━━━━━━━━━━━━━━━━━━━╇━━━━━━━━━━━━━━━━━━━━━━━━╇━━━━━━━━━━━━━━━┩\n",
              "│ embedding (\u001b[38;5;33mEmbedding\u001b[0m)           │ ?                      │   \u001b[38;5;34m0\u001b[0m (unbuilt) │\n",
              "├─────────────────────────────────┼────────────────────────┼───────────────┤\n",
              "│ bidirectional (\u001b[38;5;33mBidirectional\u001b[0m)   │ ?                      │   \u001b[38;5;34m0\u001b[0m (unbuilt) │\n",
              "├─────────────────────────────────┼────────────────────────┼───────────────┤\n",
              "│ dense (\u001b[38;5;33mDense\u001b[0m)                   │ ?                      │   \u001b[38;5;34m0\u001b[0m (unbuilt) │\n",
              "├─────────────────────────────────┼────────────────────────┼───────────────┤\n",
              "│ dropout (\u001b[38;5;33mDropout\u001b[0m)               │ ?                      │             \u001b[38;5;34m0\u001b[0m │\n",
              "├─────────────────────────────────┼────────────────────────┼───────────────┤\n",
              "│ dense_1 (\u001b[38;5;33mDense\u001b[0m)                 │ ?                      │   \u001b[38;5;34m0\u001b[0m (unbuilt) │\n",
              "└─────────────────────────────────┴────────────────────────┴───────────────┘\n"
            ],
            "text/html": [
              "<pre style=\"white-space:pre;overflow-x:auto;line-height:normal;font-family:Menlo,'DejaVu Sans Mono',consolas,'Courier New',monospace\">┏━━━━━━━━━━━━━━━━━━━━━━━━━━━━━━━━━┳━━━━━━━━━━━━━━━━━━━━━━━━┳━━━━━━━━━━━━━━━┓\n",
              "┃<span style=\"font-weight: bold\"> Layer (type)                    </span>┃<span style=\"font-weight: bold\"> Output Shape           </span>┃<span style=\"font-weight: bold\">       Param # </span>┃\n",
              "┡━━━━━━━━━━━━━━━━━━━━━━━━━━━━━━━━━╇━━━━━━━━━━━━━━━━━━━━━━━━╇━━━━━━━━━━━━━━━┩\n",
              "│ embedding (<span style=\"color: #0087ff; text-decoration-color: #0087ff\">Embedding</span>)           │ ?                      │   <span style=\"color: #00af00; text-decoration-color: #00af00\">0</span> (unbuilt) │\n",
              "├─────────────────────────────────┼────────────────────────┼───────────────┤\n",
              "│ bidirectional (<span style=\"color: #0087ff; text-decoration-color: #0087ff\">Bidirectional</span>)   │ ?                      │   <span style=\"color: #00af00; text-decoration-color: #00af00\">0</span> (unbuilt) │\n",
              "├─────────────────────────────────┼────────────────────────┼───────────────┤\n",
              "│ dense (<span style=\"color: #0087ff; text-decoration-color: #0087ff\">Dense</span>)                   │ ?                      │   <span style=\"color: #00af00; text-decoration-color: #00af00\">0</span> (unbuilt) │\n",
              "├─────────────────────────────────┼────────────────────────┼───────────────┤\n",
              "│ dropout (<span style=\"color: #0087ff; text-decoration-color: #0087ff\">Dropout</span>)               │ ?                      │             <span style=\"color: #00af00; text-decoration-color: #00af00\">0</span> │\n",
              "├─────────────────────────────────┼────────────────────────┼───────────────┤\n",
              "│ dense_1 (<span style=\"color: #0087ff; text-decoration-color: #0087ff\">Dense</span>)                 │ ?                      │   <span style=\"color: #00af00; text-decoration-color: #00af00\">0</span> (unbuilt) │\n",
              "└─────────────────────────────────┴────────────────────────┴───────────────┘\n",
              "</pre>\n"
            ]
          },
          "metadata": {}
        },
        {
          "output_type": "display_data",
          "data": {
            "text/plain": [
              "\u001b[1m Total params: \u001b[0m\u001b[38;5;34m0\u001b[0m (0.00 B)\n"
            ],
            "text/html": [
              "<pre style=\"white-space:pre;overflow-x:auto;line-height:normal;font-family:Menlo,'DejaVu Sans Mono',consolas,'Courier New',monospace\"><span style=\"font-weight: bold\"> Total params: </span><span style=\"color: #00af00; text-decoration-color: #00af00\">0</span> (0.00 B)\n",
              "</pre>\n"
            ]
          },
          "metadata": {}
        },
        {
          "output_type": "display_data",
          "data": {
            "text/plain": [
              "\u001b[1m Trainable params: \u001b[0m\u001b[38;5;34m0\u001b[0m (0.00 B)\n"
            ],
            "text/html": [
              "<pre style=\"white-space:pre;overflow-x:auto;line-height:normal;font-family:Menlo,'DejaVu Sans Mono',consolas,'Courier New',monospace\"><span style=\"font-weight: bold\"> Trainable params: </span><span style=\"color: #00af00; text-decoration-color: #00af00\">0</span> (0.00 B)\n",
              "</pre>\n"
            ]
          },
          "metadata": {}
        },
        {
          "output_type": "display_data",
          "data": {
            "text/plain": [
              "\u001b[1m Non-trainable params: \u001b[0m\u001b[38;5;34m0\u001b[0m (0.00 B)\n"
            ],
            "text/html": [
              "<pre style=\"white-space:pre;overflow-x:auto;line-height:normal;font-family:Menlo,'DejaVu Sans Mono',consolas,'Courier New',monospace\"><span style=\"font-weight: bold\"> Non-trainable params: </span><span style=\"color: #00af00; text-decoration-color: #00af00\">0</span> (0.00 B)\n",
              "</pre>\n"
            ]
          },
          "metadata": {}
        }
      ]
    },
    {
      "cell_type": "markdown",
      "source": [
        "---\n",
        "## ⚙️ Étape 5 : La Forge en Action (Compilation et Entraînement)\n",
        "\n",
        "Comme pour notre CNN, nous devons compiler le modèle avant d'allumer la forge. La configuration est très similaire, mais adaptée à notre problème.\n",
        "\n",
        "- **`loss` :** `binary_crossentropy` est parfaite pour la classification binaire (positif/négatif).\n",
        "- **`optimizer` et `metrics`** restent les mêmes."
      ],
      "metadata": {
        "id": "fZNd8sN9-wK2"
      }
    },
    {
      "cell_type": "code",
      "source": [
        "# Compilation du modèle\n",
        "model_lstm.compile(optimizer='adam',\n",
        "                   loss='binary_crossentropy',\n",
        "                   metrics=['accuracy'])\n",
        "\n",
        "# Lançons la forge !\n",
        "print(\"--- Lancement de l'entraînement de la Voix ---\")\n",
        "history_lstm = model_lstm.fit(x_train_pad, y_train,\n",
        "                              epochs=3, # 3 époques pour une démo\n",
        "                              batch_size=128,\n",
        "                              validation_data=(x_test_pad, y_test),\n",
        "                              verbose=1)\n",
        "\n",
        "print(\"\\n--- Entraînement terminé ! ---\")"
      ],
      "metadata": {
        "colab": {
          "base_uri": "https://localhost:8080/"
        },
        "id": "TAZaj0JE-yv2",
        "outputId": "04e6032a-f72c-425a-aecf-d6adfa8c644a"
      },
      "execution_count": null,
      "outputs": [
        {
          "output_type": "stream",
          "name": "stdout",
          "text": [
            "--- Lancement de l'entraînement de la Voix ---\n",
            "Epoch 1/3\n",
            "\u001b[1m196/196\u001b[0m \u001b[32m━━━━━━━━━━━━━━━━━━━━\u001b[0m\u001b[37m\u001b[0m \u001b[1m389s\u001b[0m 2s/step - accuracy: 0.6049 - loss: 0.6347 - val_accuracy: 0.8051 - val_loss: 0.4348\n",
            "Epoch 2/3\n",
            "\u001b[1m196/196\u001b[0m \u001b[32m━━━━━━━━━━━━━━━━━━━━\u001b[0m\u001b[37m\u001b[0m \u001b[1m433s\u001b[0m 2s/step - accuracy: 0.8336 - loss: 0.4077 - val_accuracy: 0.8168 - val_loss: 0.4310\n",
            "Epoch 3/3\n",
            "\u001b[1m196/196\u001b[0m \u001b[32m━━━━━━━━━━━━━━━━━━━━\u001b[0m\u001b[37m\u001b[0m \u001b[1m382s\u001b[0m 2s/step - accuracy: 0.8695 - loss: 0.3429 - val_accuracy: 0.8040 - val_loss: 0.4554\n",
            "\n",
            "--- Entraînement terminé ! ---\n"
          ]
        }
      ]
    },
    {
      "cell_type": "markdown",
      "source": [
        "---\n",
        "## 🏆 Étape 6 : L'Épreuve du Discours (Évaluation et Prédictions)\n",
        "\n",
        "Notre Voix a été forgée. Est-elle capable de discerner les émotions ? Testons-la sur des critiques qu'elle n'a jamais lues."
      ],
      "metadata": {
        "id": "uGJFPp3jDqHE"
      }
    },
    {
      "cell_type": "code",
      "source": [
        "# Évaluation finale sur le jeu de test\n",
        "score_lstm = model_lstm.evaluate(x_test_pad, y_test, verbose=0)\n",
        "print(f\"Perte sur le jeu de test (Loss) : {score_lstm[0]:.4f}\")\n",
        "print(f\"Précision sur le jeu de test (Accuracy) : {score_lstm[1]*100:.2f}%\")\n",
        "\n",
        "# On réutilise notre fonction pour tracer les courbes\n",
        "def plot_history(history):\n",
        "    plt.style.use('dark_background')\n",
        "    fig, (ax1, ax2) = plt.subplots(1, 2, figsize=(15, 6))\n",
        "\n",
        "    acc = history.history['accuracy']\n",
        "    val_acc = history.history['val_accuracy']\n",
        "    loss = history.history['loss']\n",
        "    val_loss = history.history['val_loss']\n",
        "    epochs = range(1, len(acc) + 1)\n",
        "\n",
        "    ax1.plot(epochs, acc, label='Training Accuracy', color='#39FF14', marker='o')\n",
        "    ax1.plot(epochs, val_acc, label='Validation Accuracy', color='#7DF9FF', marker='o')\n",
        "    ax1.set_title('Accuracy au fil des époques', color='#E0E0E0')\n",
        "    ax1.legend()\n",
        "\n",
        "    ax2.plot(epochs, loss, label='Training Loss', color='#39FF14', marker='o')\n",
        "    ax2.plot(epochs, val_loss, label='Validation Loss', color='#7DF9FF', marker='o')\n",
        "    ax2.set_title('Perte (Loss) au fil des époques', color='#E0E0E0')\n",
        "    ax2.legend()\n",
        "\n",
        "    plt.show()\n",
        "\n",
        "plot_history(history_lstm)"
      ],
      "metadata": {
        "colab": {
          "base_uri": "https://localhost:8080/",
          "height": 580
        },
        "id": "Bt2duFQJDsPv",
        "outputId": "be6e5ed7-0ab1-413d-846d-95f5d1d97ed3"
      },
      "execution_count": null,
      "outputs": [
        {
          "output_type": "stream",
          "name": "stdout",
          "text": [
            "Perte sur le jeu de test (Loss) : 0.4554\n",
            "Précision sur le jeu de test (Accuracy) : 80.40%\n"
          ]
        },
        {
          "output_type": "display_data",
          "data": {
            "text/plain": [
              "<Figure size 1500x600 with 2 Axes>"
            ],
            "image/png": "[encoded data removed]"
          },
          "metadata": {}
        }
      ]
    },
    {
      "cell_type": "markdown",
      "source": [
        "### Faisons une prédiction sur une critique personnalisée !\n",
        "\n",
        "Maintenant, le test ultime : donnons-lui nos propres phrases pour voir comment il réagit."
      ],
      "metadata": {
        "id": "niAPJpvQEye5"
      }
    },
    {
      "cell_type": "code",
      "source": [
        "# Fonction pour prédire le sentiment d'une nouvelle phrase\n",
        "def predict_sentiment(text):\n",
        "    # Prétraitement du texte\n",
        "    # 1. Tokenization : convertir les mots en entiers\n",
        "    sequence = [word_index.get(word, 2) for word in text.lower().split()]\n",
        "    # 2. Padding\n",
        "    padded_sequence = pad_sequences([sequence], maxlen=MAX_LEN, padding='post', truncating='post')\n",
        "\n",
        "    # Prédiction\n",
        "    prediction = model_lstm.predict(padded_sequence)[0][0]\n",
        "\n",
        "    # Interprétation\n",
        "    sentiment = \"Positif\" if prediction > 0.5 else \"Négatif\"\n",
        "    print(f\"Critique : '{text}'\")\n",
        "    print(f\"Score de Positivité : {prediction:.4f}\")\n",
        "    print(f\"Sentiment Prédit : {sentiment}\\n\")\n",
        "\n",
        "# Testons !\n",
        "predict_sentiment(\"This movie was absolutely fantastic, a masterpiece of cinema.\")\n",
        "predict_sentiment(\"I have never seen such a boring and predictable plot in my entire life.\")\n",
        "predict_sentiment(\"The acting was great but the story was a complete mess.\")"
      ],
      "metadata": {
        "colab": {
          "base_uri": "https://localhost:8080/"
        },
        "id": "yTs7ej-5E1dP",
        "outputId": "ffd38062-70c6-4128-f1ae-f43663719e15"
      },
      "execution_count": null,
      "outputs": [
        {
          "output_type": "stream",
          "name": "stdout",
          "text": [
            "\u001b[1m1/1\u001b[0m \u001b[32m━━━━━━━━━━━━━━━━━━━━\u001b[0m\u001b[37m\u001b[0m \u001b[1m1s\u001b[0m 1s/step\n",
            "Critique : 'This movie was absolutely fantastic, a masterpiece of cinema.'\n",
            "Score de Positivité : 0.3422\n",
            "Sentiment Prédit : Négatif\n",
            "\n",
            "\u001b[1m1/1\u001b[0m \u001b[32m━━━━━━━━━━━━━━━━━━━━\u001b[0m\u001b[37m\u001b[0m \u001b[1m0s\u001b[0m 421ms/step\n",
            "Critique : 'I have never seen such a boring and predictable plot in my entire life.'\n",
            "Score de Positivité : 0.4277\n",
            "Sentiment Prédit : Négatif\n",
            "\n",
            "\u001b[1m1/1\u001b[0m \u001b[32m━━━━━━━━━━━━━━━━━━━━\u001b[0m\u001b[37m\u001b[0m \u001b[1m0s\u001b[0m 320ms/step\n",
            "Critique : 'The acting was great but the story was a complete mess.'\n",
            "Score de Positivité : 0.8309\n",
            "Sentiment Prédit : Positif\n",
            "\n"
          ]
        }
      ]
    },
    {
      "cell_type": "markdown",
      "source": [
        "---\n",
        "## ✅ Conclusion de la Quête n°2\n",
        "\n",
        "**Incroyable ! Notre deuxième artefact est prêt.**\n",
        "\n",
        "Nous avons forgé une Voix Artificielle, un LSTM, capable de lire et de comprendre le sentiment derrière le langage humain.\n",
        "\n",
        "**Ce que nous avons appris :**\n",
        "- Le défi des séquences de longueur variable et comment le **padding** le résout.\n",
        "- La puissance de l'**Embedding** pour donner un sens aux mots.\n",
        "- Le rôle du **LSTM** pour capturer le contexte et la mémoire à long terme.\n",
        "\n",
        "Nous avons maintenant un Œil et une Voix. La dernière quête nous attend : les unir pour accomplir une tâche encore plus grande."
      ],
      "metadata": {
        "id": "Uvo6tvzwE5Ry"
      }
    },
    {
      "cell_type": "code",
      "source": [],
      "metadata": {
        "id": "WVkyh2DWE6iu"
      },
      "execution_count": null,
      "outputs": []
    }
  ]
}
